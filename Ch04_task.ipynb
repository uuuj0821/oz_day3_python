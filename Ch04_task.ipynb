{
  "cells": [
    {
      "cell_type": "markdown",
      "metadata": {
        "id": "view-in-github",
        "colab_type": "text"
      },
      "source": [
        "<a href=\"https://colab.research.google.com/github/uuuj0821/oz_day3_python/blob/main/Ch04_task.ipynb\" target=\"_parent\"><img src=\"https://colab.research.google.com/assets/colab-badge.svg\" alt=\"Open In Colab\"/></a>"
      ]
    },
    {
      "cell_type": "markdown",
      "metadata": {
        "id": "9aN97VvTAely"
      },
      "source": [
        "<span style=\"font-size:100%\">\n",
        "\n",
        "수업은 모두 열심히 들으셨나요?\n",
        "\n",
        "간혹 강의에서 언급되지 않은 내용이 문제로 나올 수 있습니다.<br>\n",
        "그럴땐 강의 내용 외 문제는 구글링을 통해 해결해주세요<br></span>\n",
        "<span style=\"font-size:80%\">\n",
        "(구글링 또한 개발자가 갖쳐야할 역량 중에 하나랍니다 😊)\n",
        "</span>\n",
        "\n",
        "---"
      ]
    },
    {
      "cell_type": "markdown",
      "metadata": {
        "id": "Gryd_Uk2Aelz"
      },
      "source": [
        "<span style=\"font-size:80%\">[문제1]<br><br></span>\n",
        "```다음 중 14 % 3의 계산 결과로 옳은 것을 고르세요```\n",
        "\n",
        "1. 4\n",
        "2. 4.6\n",
        "3. 2\n",
        "4. 1"
      ]
    },
    {
      "cell_type": "markdown",
      "metadata": {
        "id": "J7LsKq_RAel0"
      },
      "source": [
        "<span style=\"color:red\">답변</span>\n",
        "\n",
        "3. 2"
      ]
    },
    {
      "cell_type": "code",
      "source": [
        "print(14%3)"
      ],
      "metadata": {
        "colab": {
          "base_uri": "https://localhost:8080/"
        },
        "id": "MZANcyFqAssp",
        "outputId": "11d53506-ecf1-450b-d8c9-48a8b0b80344"
      },
      "execution_count": 1,
      "outputs": [
        {
          "output_type": "stream",
          "name": "stdout",
          "text": [
            "2\n"
          ]
        }
      ]
    },
    {
      "cell_type": "markdown",
      "metadata": {
        "id": "okj6h32jAel0"
      },
      "source": []
    },
    {
      "cell_type": "markdown",
      "metadata": {
        "id": "4YusdY4MAel0"
      },
      "source": [
        "----"
      ]
    },
    {
      "cell_type": "markdown",
      "metadata": {
        "id": "qNHm78wEAel1"
      },
      "source": [
        "<span style=\"font-size:80%\">[문제2]<br><br></span>\n",
        "```다음 중 올바르지 않은 것을 고르세요```\n",
        "\n",
        "1. float(17//3)\n",
        "2. int(10)-9\n",
        "3. float11/2\n",
        "4. float(10)-2"
      ]
    },
    {
      "cell_type": "markdown",
      "metadata": {
        "id": "Hjtrk_phAel1"
      },
      "source": [
        "<span style=\"color:red\">답변</span>\n",
        "\n",
        "3.\n",
        "\n",
        "()로 묶어줘야함"
      ]
    },
    {
      "cell_type": "code",
      "source": [],
      "metadata": {
        "colab": {
          "base_uri": "https://localhost:8080/"
        },
        "id": "rZneDXDuCDGU",
        "outputId": "338d77c6-6c01-44ba-c601-5e9b11fa135b"
      },
      "execution_count": 6,
      "outputs": [
        {
          "output_type": "stream",
          "name": "stdout",
          "text": [
            "5.0\n",
            "1\n",
            "8.0\n"
          ]
        }
      ]
    },
    {
      "cell_type": "markdown",
      "metadata": {
        "id": "lnu7jheTAel1"
      },
      "source": []
    },
    {
      "cell_type": "markdown",
      "metadata": {
        "id": "ElddrnIqAel1"
      },
      "source": [
        "----"
      ]
    },
    {
      "cell_type": "markdown",
      "metadata": {
        "id": "tUo5wMjIAel1"
      },
      "source": [
        "[문제3]<br><br>\n",
        "다음 계산식의 결괏값을 골라주세요\n",
        "\n",
        "(3 * 7 - 16) / 2 - 1"
      ]
    },
    {
      "cell_type": "markdown",
      "metadata": {
        "id": "O87U2wxSAel2"
      },
      "source": [
        "<span style=\"color:red\">답변</span>\n",
        "\n",
        "1.5"
      ]
    },
    {
      "cell_type": "code",
      "source": [
        "print((3*7-16)/2-1)"
      ],
      "metadata": {
        "colab": {
          "base_uri": "https://localhost:8080/"
        },
        "id": "j_Vfwee7BGIy",
        "outputId": "3626eed8-eb8b-46c8-da15-565040bd15b3"
      },
      "execution_count": 3,
      "outputs": [
        {
          "output_type": "stream",
          "name": "stdout",
          "text": [
            "1.5\n"
          ]
        }
      ]
    },
    {
      "cell_type": "markdown",
      "metadata": {
        "id": "2mo_cXAeAel2"
      },
      "source": []
    },
    {
      "cell_type": "markdown",
      "metadata": {
        "id": "InN9Grz3Ael2"
      },
      "source": [
        "----"
      ]
    },
    {
      "cell_type": "markdown",
      "metadata": {
        "id": "lPbnOK19Ael2"
      },
      "source": [
        "[문제4]<br><br>\n",
        "거듭제곱을 올바르게 표현한 식을 골라주세요\n",
        "\n",
        "1. 2 ^^ 3\n",
        "2. 2 ** 3\n",
        "3. 2 ^* 3\n",
        "4. 2 ~~ 3"
      ]
    },
    {
      "cell_type": "markdown",
      "metadata": {
        "id": "DTbJwq73Ael2"
      },
      "source": [
        "<span style=\"color:red\">답변</span>\n",
        "\n",
        "2. 2 ** 3"
      ]
    },
    {
      "cell_type": "markdown",
      "metadata": {
        "id": "3MhqGaHoAel2"
      },
      "source": []
    },
    {
      "cell_type": "markdown",
      "metadata": {
        "id": "C8ZuwaivAel2"
      },
      "source": [
        "----"
      ]
    },
    {
      "cell_type": "markdown",
      "metadata": {
        "id": "0W1ayj7BAel2"
      },
      "source": [
        "[문제5]<br><br>\n",
        "목과 나머지를 함께 구하기 위해 사용할 수 있는 표현을 골라주세요\n",
        "\n",
        "1. //\n",
        "2. divmod()\n",
        "3. %\n",
        "4. /"
      ]
    },
    {
      "cell_type": "markdown",
      "metadata": {
        "id": "2423IG-yAel2"
      },
      "source": [
        "<span style=\"color:red\">답변</span>\n",
        "\n",
        "2. divmod()"
      ]
    },
    {
      "cell_type": "markdown",
      "metadata": {
        "id": "Zh8GLe1XAel2"
      },
      "source": []
    }
  ],
  "metadata": {
    "language_info": {
      "name": "python"
    },
    "colab": {
      "provenance": [],
      "include_colab_link": true
    },
    "kernelspec": {
      "name": "python3",
      "display_name": "Python 3"
    }
  },
  "nbformat": 4,
  "nbformat_minor": 0
}