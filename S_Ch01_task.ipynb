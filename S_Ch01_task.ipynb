{
  "cells": [
    {
      "cell_type": "markdown",
      "metadata": {
        "id": "view-in-github",
        "colab_type": "text"
      },
      "source": [
        "<a href=\"https://colab.research.google.com/github/uuuj0821/oz_day3_python/blob/main/S_Ch01_task.ipynb\" target=\"_parent\"><img src=\"https://colab.research.google.com/assets/colab-badge.svg\" alt=\"Open In Colab\"/></a>"
      ]
    },
    {
      "cell_type": "markdown",
      "metadata": {
        "id": "uR1ji_O7dFc0"
      },
      "source": [
        "<span style=\"font-size:100%\">\n",
        "\n",
        "수업은 모두 열심히 들으셨나요?\n",
        "\n",
        "간혹 강의에서 언급되지 않은 내용이 문제로 나올 수 있습니다.<br>\n",
        "그럴땐 강의 내용 외 문제는 구글링을 통해 해결해주세요<br></span>\n",
        "<span style=\"font-size:80%\">\n",
        "(구글링 또한 개발자가 갖쳐야할 역량 중에 하나랍니다 😊)\n",
        "</span>\n",
        "\n",
        "---"
      ]
    },
    {
      "cell_type": "markdown",
      "metadata": {
        "id": "sZ5LZ5SddFc1"
      },
      "source": [
        "<span style=\"font-size:80%\">[문제1]<br><br></span>\n",
        "```인터프리트 방식에 대해 설명하고 2개 이상의 장점을 설명해주세요```"
      ]
    },
    {
      "cell_type": "markdown",
      "metadata": {
        "id": "bZPPqcFCdFc1"
      },
      "source": [
        "<span style=\"color:red\">답변</span>\n",
        "\n",
        "인터프리터 방식 : 코드를 한 줄씩 읽어들여서 실행 하는 방식\n",
        "\n",
        "장점\n",
        " 1. 오류가 발생한 라인에서 멈추게 되어 오류를 발견하기 쉬움\n",
        " 2. 시스템간 이식성이 뛰어남"
      ]
    },
    {
      "cell_type": "markdown",
      "metadata": {
        "id": "k8TyelmndFc2"
      },
      "source": []
    },
    {
      "cell_type": "markdown",
      "metadata": {
        "id": "ajQPPXP_dFc2"
      },
      "source": [
        "---"
      ]
    },
    {
      "cell_type": "markdown",
      "metadata": {
        "id": "JPpg1k2pdFc2"
      },
      "source": [
        "<span style=\"font-size:80%\">[문제2]<br><br></span>\n",
        "```동적 타입 방식의 장점과 단점을 간략히 설명해주세요```"
      ]
    },
    {
      "cell_type": "markdown",
      "metadata": {
        "id": "1nk1ie1idFc2"
      },
      "source": [
        "<span style=\"color:red\">답변</span>\n",
        "\n",
        "동적타입의 장점\n",
        "\n",
        "  - 타입 선언이 없어 코드가 간결하다\n",
        "  - 실행 시 타입이 결정되기 때문에 유연성이 높다\n",
        "\n",
        "동점타입의 단점\n",
        "\n",
        "  - 오류 예측이 어렵다.\n",
        "  - 런타임에 타입 체크를 수행하므로 성능이 상대적으로 느리다."
      ]
    },
    {
      "cell_type": "markdown",
      "metadata": {
        "id": "d-jZkW2-dFc3"
      },
      "source": []
    },
    {
      "cell_type": "markdown",
      "metadata": {
        "id": "zoPzAegTdFc3"
      },
      "source": [
        "---"
      ]
    },
    {
      "cell_type": "markdown",
      "metadata": {
        "id": "MvI96079dFc3"
      },
      "source": [
        "<span style=\"font-size:80%\">[문제3]<br><br></span>\n",
        "```Python으로 정적타입 방식의 코드를 작성할 수 있는 방법을 구글링을 통해 검색 후 설명해주세요```"
      ]
    },
    {
      "cell_type": "markdown",
      "metadata": {
        "id": "lM1LU0jwdFc3"
      },
      "source": [
        "<span style=\"color:red\">답변</span>\n",
        "\n",
        "변수명: 타입명 (값 대입)\n",
        "\n",
        "ex) num: int = 4"
      ]
    },
    {
      "cell_type": "markdown",
      "metadata": {
        "id": "drJQwk4BdFc3"
      },
      "source": []
    },
    {
      "cell_type": "markdown",
      "metadata": {
        "id": "Cd1aDGgPdFc4"
      },
      "source": [
        "---"
      ]
    },
    {
      "cell_type": "markdown",
      "metadata": {
        "id": "qb0Fnq4SdFc4"
      },
      "source": [
        "<span style=\"font-size:80%\">[문제4]<br><br></span>\n",
        "```프로세스와 스레드의 차이점을 설명해주세요```"
      ]
    },
    {
      "cell_type": "markdown",
      "metadata": {
        "id": "NTZF1Jq9dFc4"
      },
      "source": [
        "<span style=\"color:red\">답변</span>"
      ]
    },
    {
      "cell_type": "markdown",
      "metadata": {
        "id": "giCy-SxqdFc4"
      },
      "source": []
    },
    {
      "cell_type": "markdown",
      "metadata": {
        "id": "XNRDnYN9dFc4"
      },
      "source": [
        "---"
      ]
    },
    {
      "cell_type": "markdown",
      "metadata": {
        "id": "vCtSf3PBdFc4"
      },
      "source": [
        "<span style=\"font-size:80%\">[문제5]<br><br></span>\n",
        "```Python 2버전대와 3버전대의 차이를 성명해주세요```"
      ]
    },
    {
      "cell_type": "markdown",
      "metadata": {
        "id": "ApFJjNN_dFc4"
      },
      "source": [
        "<span style=\"color:red\">답변</span>"
      ]
    },
    {
      "cell_type": "markdown",
      "metadata": {
        "id": "dZHqM3FEdFc4"
      },
      "source": []
    },
    {
      "cell_type": "markdown",
      "metadata": {
        "id": "fZ9dTj6IdFc4"
      },
      "source": [
        "---"
      ]
    },
    {
      "cell_type": "markdown",
      "metadata": {
        "id": "MBWnp3zhdFc4"
      },
      "source": [
        "<span style=\"font-size:80%\">[문제6]<br><br></span>\n",
        "```Python에서 메모리 관리는 어떻게 이루어지는지 설명해주세요```"
      ]
    },
    {
      "cell_type": "markdown",
      "metadata": {
        "id": "wVjW8JyrdFc4"
      },
      "source": [
        "<span style=\"color:red\">답변</span>"
      ]
    },
    {
      "cell_type": "markdown",
      "metadata": {
        "id": "IyYa0fb-dFc4"
      },
      "source": []
    }
  ],
  "metadata": {
    "language_info": {
      "name": "python"
    },
    "colab": {
      "provenance": [],
      "include_colab_link": true
    }
  },
  "nbformat": 4,
  "nbformat_minor": 0
}