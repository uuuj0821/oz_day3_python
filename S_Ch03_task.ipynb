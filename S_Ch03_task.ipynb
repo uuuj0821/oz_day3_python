{
  "cells": [
    {
      "cell_type": "markdown",
      "metadata": {
        "id": "view-in-github",
        "colab_type": "text"
      },
      "source": [
        "<a href=\"https://colab.research.google.com/github/uuuj0821/oz_day3_python/blob/main/S_Ch03_task.ipynb\" target=\"_parent\"><img src=\"https://colab.research.google.com/assets/colab-badge.svg\" alt=\"Open In Colab\"/></a>"
      ]
    },
    {
      "cell_type": "markdown",
      "metadata": {
        "id": "MN9g6BW0gtnl"
      },
      "source": [
        "<span style=\"font-size:100%\">\n",
        "\n",
        "수업은 모두 열심히 들으셨나요?\n",
        "\n",
        "간혹 강의에서 언급되지 않은 내용이 문제로 나올 수 있습니다.<br>\n",
        "그럴땐 강의 내용 외 문제는 구글링을 통해 해결해주세요<br></span>\n",
        "<span style=\"font-size:80%\">\n",
        "(구글링 또한 개발자가 갖쳐야할 역량 중에 하나랍니다 😊)\n",
        "</span>\n",
        "\n",
        "---"
      ]
    },
    {
      "cell_type": "markdown",
      "metadata": {
        "id": "hBVhZ9E3gtnm"
      },
      "source": [
        "<span style=\"font-size:80%\">[문제1]<br><br></span>\n",
        "```주로 작성 중인 코드의 끝을 알리는 기호로 사용되며 파이썬에서 한 줄에 작성된 서로 다른 코드를 구분 지을 때 사용할 수 있는 기호를 골라주세요```\n",
        "\n",
        "1. ' , ' (쉼표)\n",
        "2. ' + ' (더하기 기호)\n",
        "3. ' ; ' (세미콜론)\n",
        "4. ' / ' (슬래시)"
      ]
    },
    {
      "cell_type": "markdown",
      "metadata": {
        "id": "sQjc5acOgtnm"
      },
      "source": [
        "<span style=\"color:red\">답변</span> : 3. ';' (세미콜론)"
      ]
    },
    {
      "cell_type": "markdown",
      "metadata": {
        "id": "Ix2yxpTGgtnm"
      },
      "source": []
    },
    {
      "cell_type": "markdown",
      "metadata": {
        "id": "TsFQvt_agtnm"
      },
      "source": [
        "----"
      ]
    },
    {
      "cell_type": "markdown",
      "metadata": {
        "id": "xt4AOyUHgtnm"
      },
      "source": [
        "<span style=\"font-size:80%\">[문제2]<br><br></span>\n",
        "```Python의 PEP 8은 무엇인지 설명하고 PEP 8의 핵심적인 규칙을 1개 이상을 설명해주세요```"
      ]
    },
    {
      "cell_type": "markdown",
      "metadata": {
        "id": "7MpxFbB-gtnn"
      },
      "source": [
        "<span style=\"color:red\">답변</span>\n",
        "\n",
        "PEP8 : python 코드 작성법에 대한 가이드라인\n",
        "\n",
        "1. 코드 레이아웃\n",
        "\n",
        " - 들여쓰기 수준 당 4개의 공백을 사용\n",
        " - 모든 줄은 최대 79자로 제한\n",
        " - 연산자 앞에서 줄바꿈 한다.\n",
        " - import는 분리해서 사용\n",
        " - 파이썬에서는 따옴표, 쌍따옴표가 동일한 동작을 함. 혼용해서 사용하기 보다는 일관성있게 한가지만을 사용하길 권장함.\n",
        "\n",
        "\n",
        " 2. 명명 규약\n",
        "  - 함수, 변수, 속성 : 소문자 + '_' 조합\n",
        "  - 보호해야하는 인스턴스 속성 : '_' 로 시작\n",
        "  - private 인스턴스 속성 : '__ (더블언더바)' 로 시작\n",
        "  - class, exception : 첫 문자는 대문자 + 파스칼 표기법\n",
        "    (파스칼표기법 : '_' 없이 모든 문자를 이어서 표현하되, 대문자로 단어를 구분)\n",
        "  - 상수 : 모든글자를 대문자 + '_' 조합\n",
        "\n",
        "\n",
        "\n"
      ]
    },
    {
      "cell_type": "markdown",
      "metadata": {
        "id": "YqvXKk3vgtnn"
      },
      "source": []
    },
    {
      "cell_type": "markdown",
      "metadata": {
        "id": "iy7S6aJ-gtnn"
      },
      "source": [
        "----"
      ]
    },
    {
      "cell_type": "markdown",
      "metadata": {
        "id": "ghoBN4ivgtnn"
      },
      "source": [
        "<span style=\"font-size:80%\">[문제3]<br><br></span>\n",
        "```Python에서 \"#\"이 의마하는 것은 무엇인지 설명해주세요```"
      ]
    },
    {
      "cell_type": "markdown",
      "metadata": {
        "id": "-PQE_EFvgtnn"
      },
      "source": [
        "<span style=\"color:red\">답변</span>\n",
        "\n",
        "주석처리"
      ]
    },
    {
      "cell_type": "code",
      "source": [],
      "metadata": {
        "id": "t47Ju-BJ-nY7"
      },
      "execution_count": null,
      "outputs": []
    },
    {
      "cell_type": "markdown",
      "metadata": {
        "id": "L6K04DK1gtnn"
      },
      "source": []
    },
    {
      "cell_type": "markdown",
      "metadata": {
        "id": "bvCqK6hNgtnn"
      },
      "source": [
        "----"
      ]
    },
    {
      "cell_type": "markdown",
      "metadata": {
        "id": "KR8rYny0gtnn"
      },
      "source": [
        "<span style=\"font-size:80%\">[문제4]<br><br></span>\n",
        "```Python의 들여쓰기 장점과 기능에 대해 설명해주세요```"
      ]
    },
    {
      "cell_type": "markdown",
      "metadata": {
        "id": "pl1jdY1egtnn"
      },
      "source": [
        "<span style=\"color:red\">답변</span>\n",
        "\n",
        "가독성이 좋다.\n",
        "\n",
        "코드의 시작과 끝을 한 눈에 알 수 있다."
      ]
    },
    {
      "cell_type": "markdown",
      "metadata": {
        "id": "5GJvV99Ogtno"
      },
      "source": []
    },
    {
      "cell_type": "markdown",
      "metadata": {
        "id": "jZpVxFbqgtno"
      },
      "source": [
        "----"
      ]
    },
    {
      "cell_type": "code",
      "source": [],
      "metadata": {
        "id": "blE7iBMbAGKS"
      },
      "execution_count": null,
      "outputs": []
    },
    {
      "cell_type": "markdown",
      "metadata": {
        "id": "wi6Wq11Wgtno"
      },
      "source": [
        "<span style=\"font-size:80%\">[문제5]<br><br></span>\n",
        "```print( )문의 기능 및 특징에 대해 설명해주세요```"
      ]
    },
    {
      "cell_type": "markdown",
      "metadata": {
        "id": "_6Qt9y6Tgtno"
      },
      "source": [
        "<span style=\"color:red\">답변</span>\n",
        "\n",
        "print() 안의 내용을 출력함\n",
        "\n",
        "단순 변수 출력 외에도 파일 출력도 가능하다.\n",
        "\n",
        "또한, 간단한 디버깅 및 테스트에 유용하게 사용한다."
      ]
    },
    {
      "cell_type": "code",
      "execution_count": null,
      "metadata": {
        "vscode": {
          "languageId": "plaintext"
        },
        "id": "WwqQzjDGgtno"
      },
      "outputs": [],
      "source": []
    },
    {
      "cell_type": "markdown",
      "metadata": {
        "id": "L8PlmaEegtno"
      },
      "source": []
    }
  ],
  "metadata": {
    "language_info": {
      "name": "python"
    },
    "colab": {
      "provenance": [],
      "include_colab_link": true
    }
  },
  "nbformat": 4,
  "nbformat_minor": 0
}