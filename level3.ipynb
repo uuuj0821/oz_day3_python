{
  "cells": [
    {
      "cell_type": "markdown",
      "metadata": {
        "id": "view-in-github",
        "colab_type": "text"
      },
      "source": [
        "<a href=\"https://colab.research.google.com/github/uuuj0821/oz_day3_python/blob/main/level3.ipynb\" target=\"_parent\"><img src=\"https://colab.research.google.com/assets/colab-badge.svg\" alt=\"Open In Colab\"/></a>"
      ]
    },
    {
      "cell_type": "markdown",
      "metadata": {
        "id": "WXEwMsfUct7U"
      },
      "source": [
        "안녕하세요.<br><br>\n",
        "수강생 여러분~!\n",
        "\n",
        "\"Challenge : 사칙연산을 이용해 문제 풀기\"는 잘 풀어보셨나요?\n",
        "\n",
        "\n",
        "너~~무 어려웠어요! 하는 분들을 위해 만들어봤습니다!\n",
        "\n",
        "문제 도장깨기 !!!!!\n",
        "\n",
        "수학적 사고도 한번 길러보세용 :)\n",
        "\n",
        "차근차근 풀어나가면 파이썬 정복 가능입니다!\n",
        "\n",
        "화이팅 !\n",
        "\n",
        "\n",
        "Chapter04의 수업 내용을 바탕으로 아래 문제를 풀어주시면 됩니다.\n",
        "\n",
        "<br>\n",
        "\n",
        "[**답변 입력 방법**]\n",
        "\n",
        "문제 아래에 있는 코드 입력창에 정답코드를 작성하신 후  __▷ 버튼을 클릭해 코드를 실행__ 해보세요<br>\n",
        "<br>"
      ]
    },
    {
      "cell_type": "markdown",
      "metadata": {
        "id": "qoyC9wF-3hvs"
      },
      "source": [
        "-----"
      ]
    },
    {
      "cell_type": "markdown",
      "metadata": {
        "id": "iFIcZNojVuiN"
      },
      "source": [
        "<br>\n",
        "\n",
        "__[문제1]__\n",
        "\n",
        "어떤 공원의 크기는 가로 50m, 세로 30m입니다.\n",
        "\n",
        "공원 내부에 5개의 조형물이 있으며, 각 조형물의 면적은 10m²입니다.\n",
        "\n",
        "이 공원의 실제 사용 면적을 구하세요. (cm로 구해주세요)\n",
        "\n",
        "\n"
      ]
    },
    {
      "cell_type": "code",
      "execution_count": 15,
      "metadata": {
        "colab": {
          "base_uri": "https://localhost:8080/"
        },
        "id": "cASQYf-ZVuiN",
        "outputId": "784db61d-84bb-4ac4-d60d-5374c41adc32"
      },
      "outputs": [
        {
          "output_type": "stream",
          "name": "stdout",
          "text": [
            "공원의 실제 사용 면적은 :  14500000\n"
          ]
        }
      ],
      "source": [
        "width_park = 50\n",
        "height_park = 30\n",
        "\n",
        "sculpture = 5\n",
        "area_sculpture = 10\n",
        "\n",
        "area_park = width_park * height_park\n",
        "all_area_sculptures = sculpture * area_sculpture\n",
        "\n",
        "result = (area_park - all_area_sculptures) * 10000\n",
        "print(\"공원의 실제 사용 면적은 : \", result)\n",
        "\n",
        "\n",
        "\n"
      ]
    },
    {
      "cell_type": "markdown",
      "metadata": {
        "id": "ropMm-eQVuiO"
      },
      "source": [
        "<br>\n",
        "\n",
        "__[문제2]__\n",
        "\n",
        "2권씩 묶여서 팔리는 책의 가격은 12,000원입니다.\n",
        "\n",
        "나는 3묶음을 살 겁니다.\n",
        "\n",
        "근데 최종 가격을 보니 10%의 세금이 붙어있습니다.\n",
        "\n",
        "최종 가격을 구해주세요."
      ]
    },
    {
      "cell_type": "code",
      "execution_count": 16,
      "metadata": {
        "colab": {
          "base_uri": "https://localhost:8080/"
        },
        "id": "0saiyizlVuiO",
        "outputId": "44123048-eb01-450c-8022-990dc11a1a03"
      },
      "outputs": [
        {
          "output_type": "stream",
          "name": "stdout",
          "text": [
            "최종 가격은 :  39,600 원\n"
          ]
        }
      ],
      "source": [
        "price_books = 12000\n",
        "buy_books = 3\n",
        "tax = 0.1\n",
        "\n",
        "result = (price_books * buy_books) * (1 + tax)\n",
        "print(\"최종 가격은 : \", format(int(result), ','), \"원\")"
      ]
    },
    {
      "cell_type": "markdown",
      "metadata": {
        "id": "KqdAS9p3VuiO"
      },
      "source": [
        "<br>\n",
        "\n",
        "__[문제3]__\n",
        "\n",
        "가로 20m, 세로 15m인 직사각형 정원의 면적을 구하세요.\n"
      ]
    },
    {
      "cell_type": "code",
      "execution_count": 9,
      "metadata": {
        "id": "74wtVQFFc_h1",
        "colab": {
          "base_uri": "https://localhost:8080/"
        },
        "outputId": "67fb86e7-7fb4-4871-a7cb-f574abdc8f6c"
      },
      "outputs": [
        {
          "output_type": "stream",
          "name": "stdout",
          "text": [
            "정원의 면적 :  300 [m^2]\n"
          ]
        }
      ],
      "source": [
        "width_garden = 20\n",
        "height_garden = 15\n",
        "\n",
        "area_garden = width_garden * height_garden\n",
        "print(\"정원의 면적 : \", area_garden, \"[m^2]\")"
      ]
    },
    {
      "cell_type": "markdown",
      "metadata": {
        "id": "z--GGSdhVuiP"
      },
      "source": [
        "<br>\n",
        "\n",
        "__[문제3-1]__\n",
        "\n",
        "문제 1에서 구한 정원의 면적에서, 정원의 5%를 차지하는 풀밭 면적을 구하세요.\n",
        "\n",
        "\n"
      ]
    },
    {
      "cell_type": "code",
      "source": [
        "area_gross = area_garden * 0.05\n",
        "\n",
        "print(\"풀밭의 면적은 : \", area_gross, \"[m^2]\")"
      ],
      "metadata": {
        "colab": {
          "base_uri": "https://localhost:8080/"
        },
        "id": "rw6GBPbcYT2v",
        "outputId": "32533f2f-f103-4218-bec6-045a3d781cb2"
      },
      "execution_count": 11,
      "outputs": [
        {
          "output_type": "stream",
          "name": "stdout",
          "text": [
            "풀밭의 면적은 :  15.0 [m^2]\n"
          ]
        }
      ]
    },
    {
      "cell_type": "markdown",
      "metadata": {
        "id": "2Jte2VLKdiPm"
      },
      "source": [
        "__[문제3-2]__\n",
        "\n",
        "풀밭 면적을 제외한 나머지 정원의 면적에 나무를 심고 싶습니다.\n",
        "\n",
        "나무 1그루가 차지하는 면적이 2m²일 때, 심을 수 있는 나무의 최대 개수를 구하세요."
      ]
    },
    {
      "cell_type": "code",
      "execution_count": 13,
      "metadata": {
        "colab": {
          "base_uri": "https://localhost:8080/"
        },
        "id": "ND8DF7WiVuiP",
        "outputId": "7906760d-6a94-46b1-bc10-65c7a5cb29bc"
      },
      "outputs": [
        {
          "output_type": "stream",
          "name": "stdout",
          "text": [
            "심을 수 있는 나무의 최대 개수 :  142 그루\n"
          ]
        }
      ],
      "source": [
        "area_tree = 2\n",
        "\n",
        "usable_area = area_garden - area_gross\n",
        "result = usable_area // area_tree\n",
        "print(\"심을 수 있는 나무의 최대 개수 : \", int(result), \"그루\")"
      ]
    }
  ],
  "metadata": {
    "colab": {
      "provenance": [],
      "include_colab_link": true
    },
    "kernelspec": {
      "display_name": "Python 3",
      "name": "python3"
    },
    "language_info": {
      "codemirror_mode": {
        "name": "ipython",
        "version": 3
      },
      "file_extension": ".py",
      "mimetype": "text/x-python",
      "name": "python",
      "nbconvert_exporter": "python",
      "pygments_lexer": "ipython3",
      "version": "3.12.3"
    }
  },
  "nbformat": 4,
  "nbformat_minor": 0
}