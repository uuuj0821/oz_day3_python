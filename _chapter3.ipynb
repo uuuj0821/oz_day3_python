{
  "nbformat": 4,
  "nbformat_minor": 0,
  "metadata": {
    "colab": {
      "provenance": []
    },
    "kernelspec": {
      "name": "python3",
      "display_name": "Python 3"
    },
    "language_info": {
      "name": "python"
    }
  },
  "cells": [
    {
      "cell_type": "code",
      "execution_count": 7,
      "metadata": {
        "colab": {
          "base_uri": "https://localhost:8080/"
        },
        "id": "Hx6mnzZhrddu",
        "outputId": "754c9984-c5fc-4941-823f-74bc89789ecb"
      },
      "outputs": [
        {
          "output_type": "stream",
          "name": "stdout",
          "text": [
            "진짜 안 보이는 거야?\n"
          ]
        }
      ],
      "source": [
        "# 주석은 이렇게 하는거다\n",
        "print(\"진짜 안 보이는 거야?\")\n",
        "# print(\"신기하네?\")"
      ]
    },
    {
      "cell_type": "code",
      "source": [
        "# print(\"진짜 안 보이는 거야?\")\n",
        "# print(\"신기하네?\")"
      ],
      "metadata": {
        "id": "0T1Yqe7-vg6c"
      },
      "execution_count": 10,
      "outputs": []
    },
    {
      "cell_type": "code",
      "source": [
        "for 동물 in (\"토끼\", \"사자\", \"푸바오\", \"호랑이\"):\n",
        "    print(동물)\n",
        "    print(\"보러 갈래요?\")"
      ],
      "metadata": {
        "colab": {
          "base_uri": "https://localhost:8080/"
        },
        "id": "drXbccHE4GEQ",
        "outputId": "92cc9319-ec1e-41e2-f0a7-bc1516abf6f5"
      },
      "execution_count": 12,
      "outputs": [
        {
          "output_type": "stream",
          "name": "stdout",
          "text": [
            "토끼\n",
            "보러 갈래요?\n",
            "사자\n",
            "보러 갈래요?\n",
            "푸바오\n",
            "보러 갈래요?\n",
            "호랑이\n",
            "보러 갈래요?\n"
          ]
        }
      ]
    },
    {
      "cell_type": "code",
      "source": [
        "for 동물 in (\"토끼\", \"사자\", \"푸바오\", \"호랑이\"):\n",
        "    print(동물)\n",
        "\n",
        "print(\"보러 갈래요?\")"
      ],
      "metadata": {
        "colab": {
          "base_uri": "https://localhost:8080/"
        },
        "id": "wU_EUMjP4lIP",
        "outputId": "808d41d6-d24d-4be7-825d-269c7097eb4b"
      },
      "execution_count": 15,
      "outputs": [
        {
          "output_type": "stream",
          "name": "stdout",
          "text": [
            "토끼\n",
            "사자\n",
            "푸바오\n",
            "호랑이\n",
            "보러 갈래요?\n"
          ]
        }
      ]
    },
    {
      "cell_type": "markdown",
      "source": [],
      "metadata": {
        "id": "c15bggWN6GZR"
      }
    },
    {
      "cell_type": "markdown",
      "source": [
        "##사칙연산\n",
        "더하기 : +\n",
        "\n",
        "빼기 : -\n",
        "\n",
        "곱하기 : *\n",
        "\n",
        "나누기 :\n",
        "\n",
        "    *   / : 우리가 알고 있는 나누기와 동일 (ex. 5/2 = 2.5)\n",
        "    *   // : 몫을 반환 (ex. 5/2 = 2)\n",
        "    *   % : 나머지를 반환 (ex. 5/2 = 1)\n",
        "\n",
        "거듭제곱 : **"
      ],
      "metadata": {
        "id": "KJouiJHJ5dLo"
      }
    },
    {
      "cell_type": "code",
      "source": [
        "# 더하기\n",
        "print(3+2)"
      ],
      "metadata": {
        "colab": {
          "base_uri": "https://localhost:8080/"
        },
        "id": "UelR880O5R1O",
        "outputId": "82d06a0d-3650-470a-a64a-9949f3533bab"
      },
      "execution_count": 19,
      "outputs": [
        {
          "output_type": "stream",
          "name": "stdout",
          "text": [
            "5\n"
          ]
        }
      ]
    },
    {
      "cell_type": "code",
      "source": [],
      "metadata": {
        "id": "M7JVmUnE7B-z"
      },
      "execution_count": null,
      "outputs": []
    },
    {
      "cell_type": "code",
      "source": [
        "# 빼기\n",
        "print(3-1)"
      ],
      "metadata": {
        "colab": {
          "base_uri": "https://localhost:8080/"
        },
        "id": "7Cx0im_u63kt",
        "outputId": "2a20ced8-5e88-4f88-c569-c5f73b209d2d"
      },
      "execution_count": 21,
      "outputs": [
        {
          "output_type": "stream",
          "name": "stdout",
          "text": [
            "2\n"
          ]
        }
      ]
    },
    {
      "cell_type": "code",
      "source": [
        "# 곱하기\n",
        "print(3*2)"
      ],
      "metadata": {
        "colab": {
          "base_uri": "https://localhost:8080/"
        },
        "id": "Stu_-bsr7ECk",
        "outputId": "1c4943d6-e5fa-484c-a9fa-5a8be1363011"
      },
      "execution_count": 23,
      "outputs": [
        {
          "output_type": "stream",
          "name": "stdout",
          "text": [
            "6\n"
          ]
        }
      ]
    },
    {
      "cell_type": "code",
      "source": [
        "# 나누기 /\n",
        "print(7/2)\n",
        "\n",
        "# //\n",
        "print(7//2)\n",
        "\n",
        "# %\n",
        "print(7%2)\n"
      ],
      "metadata": {
        "colab": {
          "base_uri": "https://localhost:8080/"
        },
        "id": "P9vIKbGS7PSR",
        "outputId": "d8d1d1d9-c609-40f9-b16e-3f281ac718f5"
      },
      "execution_count": 25,
      "outputs": [
        {
          "output_type": "stream",
          "name": "stdout",
          "text": [
            "3.5\n",
            "3\n",
            "1\n"
          ]
        }
      ]
    },
    {
      "cell_type": "markdown",
      "source": [
        "내장함수 : divmod\n",
        "\n",
        "> 내장함수 : 자주 사용하는 기능을 미리 만들어 놓은것을 내장함수라고 함\n",
        "\n",
        "**divmod** : 몫과 나머지를 동시에 구해줌"
      ],
      "metadata": {
        "id": "EEGbqQnh7tXX"
      }
    },
    {
      "cell_type": "code",
      "source": [
        "print(divmod(3, 2))\n",
        "print(divmod(7, 4))\n",
        "print(divmod(13, 2))\n",
        "print(divmod(19, 4))\n",
        "print(divmod(15, 5))\n",
        "\n",
        "print(7//4,\", \", 7%4)"
      ],
      "metadata": {
        "colab": {
          "base_uri": "https://localhost:8080/"
        },
        "id": "uq2HYiEA7llo",
        "outputId": "c6c21ac1-2bea-4d4e-e0f1-e19b490f5d2d"
      },
      "execution_count": 34,
      "outputs": [
        {
          "output_type": "stream",
          "name": "stdout",
          "text": [
            "(1, 1)\n",
            "(1, 3)\n",
            "(6, 1)\n",
            "(4, 3)\n",
            "(3, 0)\n",
            "1 ,  3\n"
          ]
        }
      ]
    },
    {
      "cell_type": "markdown",
      "source": [
        "### 괄호\n",
        "\n",
        "수학에서 사용되는 괄호와 동일한 기능\n",
        "() : 괄호안에 있는 것을 먼저 계산\n",
        "사칙연산 순서 : 괄호 -> 곱셈, 나눗셈 -> 덧셈, 뺄셈\n"
      ],
      "metadata": {
        "id": "2yq7uQnpMo3f"
      }
    },
    {
      "cell_type": "code",
      "source": [
        "3 + 2 * 4"
      ],
      "metadata": {
        "colab": {
          "base_uri": "https://localhost:8080/"
        },
        "id": "KV3ZSHmkMnY0",
        "outputId": "1accdcf4-8473-40fe-c374-e40d25d6f41a"
      },
      "execution_count": 36,
      "outputs": [
        {
          "output_type": "execute_result",
          "data": {
            "text/plain": [
              "11"
            ]
          },
          "metadata": {},
          "execution_count": 36
        }
      ]
    },
    {
      "cell_type": "code",
      "source": [
        "(3+2)*4"
      ],
      "metadata": {
        "colab": {
          "base_uri": "https://localhost:8080/"
        },
        "id": "27bapToQNDdA",
        "outputId": "01575ef4-c438-46e1-e3ff-d5320c53b378"
      },
      "execution_count": 37,
      "outputs": [
        {
          "output_type": "execute_result",
          "data": {
            "text/plain": [
              "20"
            ]
          },
          "metadata": {},
          "execution_count": 37
        }
      ]
    },
    {
      "cell_type": "code",
      "source": [],
      "metadata": {
        "id": "uvy0rpNgLoPV"
      },
      "execution_count": null,
      "outputs": []
    }
  ]
}